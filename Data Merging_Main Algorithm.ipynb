{
 "cells": [
  {
   "cell_type": "code",
   "execution_count": 665,
   "metadata": {},
   "outputs": [],
   "source": [
    "import os\n",
    "from pathlib import Path\n",
    "import numpy as np\n",
    "import sys\n",
    "import pandas as pd\n",
    "from tqdm import tqdm\n"
   ]
  },
  {
   "cell_type": "markdown",
   "metadata": {},
   "source": [
    "Street Cleanliness"
   ]
  },
  {
   "cell_type": "code",
   "execution_count": 739,
   "metadata": {},
   "outputs": [],
   "source": [
    "data_path = Path('data')\n",
    "street_df = pd.read_csv(data_path / 'Scorecard/Scorecard_Ratings.csv')"
   ]
  },
  {
   "cell_type": "code",
   "execution_count": 740,
   "metadata": {},
   "outputs": [
    {
     "name": "stdout",
     "output_type": "stream",
     "text": [
      "['brooklyn' 'staten island' 'bronx' 'manhattan' 'queens']\n"
     ]
    }
   ],
   "source": [
    "group_by = street_df.groupby('Borough')\n",
    "street_df['Borough'] = street_df['Borough'].str.lower()\n",
    "print (street_df['Borough'].unique())"
   ]
  },
  {
   "cell_type": "code",
   "execution_count": 741,
   "metadata": {},
   "outputs": [
    {
     "data": {
      "text/plain": [
       "Index(['Month', 'Borough', 'Community Board', 'District', 'Cleaning Section',\n",
       "       'Acceptable Streets %', 'Acceptable Sidewalks %',\n",
       "       'Acceptable Streets % - Previous Month',\n",
       "       'Acceptable Sidewalks % - Previous Month',\n",
       "       'Acceptable Streets % - Previous Year',\n",
       "       'Acceptable Sidewalks % - Previous Year',\n",
       "       'Acceptable Streets % - Previous Fiscal Quarter',\n",
       "       'Acceptable Sidewalks % - Previous Fiscal Quarter'],\n",
       "      dtype='object')"
      ]
     },
     "execution_count": 741,
     "metadata": {},
     "output_type": "execute_result"
    }
   ],
   "source": [
    "street_df.columns"
   ]
  },
  {
   "cell_type": "code",
   "execution_count": 742,
   "metadata": {},
   "outputs": [
    {
     "name": "stderr",
     "output_type": "stream",
     "text": [
      "/usr/local/lib/python3.7/site-packages/ipykernel_launcher.py:3: SettingWithCopyWarning: \n",
      "A value is trying to be set on a copy of a slice from a DataFrame.\n",
      "Try using .loc[row_indexer,col_indexer] = value instead\n",
      "\n",
      "See the caveats in the documentation: http://pandas.pydata.org/pandas-docs/stable/indexing.html#indexing-view-versus-copy\n",
      "  This is separate from the ipykernel package so we can avoid doing imports until\n"
     ]
    }
   ],
   "source": [
    "idx = street_df['Month'].str.startswith('2016') | street_df['Month'].str.startswith('2015')\n",
    "street_df = street_df[idx]\n",
    "street_df['Month'] = pd.to_datetime(street_df['Month'])\n"
   ]
  },
  {
   "cell_type": "code",
   "execution_count": 743,
   "metadata": {},
   "outputs": [],
   "source": [
    "street_df.columns\n",
    "street_df = street_df.drop(columns=['District','Cleaning Section','Community Board'])"
   ]
  },
  {
   "cell_type": "code",
   "execution_count": 744,
   "metadata": {},
   "outputs": [],
   "source": [
    "def merge_by_month(df, borough_name):\n",
    "    date_range = pd.to_datetime(pd.date_range('2014-12-30','2017-01-01',freq='1M'))\n",
    "    # print (date_range)\n",
    "    res = pd.DataFrame()\n",
    "    for idx in tqdm(range(1,len(date_range))):\n",
    "        selected_month = (df['Month']>=date_range[idx-1]) & (df['Month'] < date_range[idx])\n",
    "        df_selected = df[selected_month]\n",
    "        df_selected = df_selected.mean(axis=0)\n",
    "        # df_selected['month']= pd.to_datetime(date_range[idx-1])\n",
    "        res = res.append(df_selected,ignore_index=True)\n",
    "    res.insert(0,'month',date_range[:-1])\n",
    "    res.insert(0,'borough',borough_name)\n",
    "    return res"
   ]
  },
  {
   "cell_type": "code",
   "execution_count": 745,
   "metadata": {},
   "outputs": [
    {
     "name": "stderr",
     "output_type": "stream",
     "text": [
      "100%|██████████| 24/24 [00:00<00:00, 179.66it/s]\n",
      "100%|██████████| 24/24 [00:00<00:00, 175.08it/s]\n",
      "100%|██████████| 24/24 [00:00<00:00, 190.08it/s]\n",
      "100%|██████████| 24/24 [00:00<00:00, 175.53it/s]\n",
      "100%|██████████| 24/24 [00:00<00:00, 190.84it/s]\n"
     ]
    }
   ],
   "source": [
    "street_gp = street_df.groupby('Borough')\n",
    "borough_list = []\n",
    "# result_grouped.groups.keys()\n",
    "for i in result_grp.groups.keys():\n",
    "    grp = street_gp.get_group(i)\n",
    "    borough_list.append(merge_by_month(grp, i))"
   ]
  },
  {
   "cell_type": "code",
   "execution_count": 746,
   "metadata": {},
   "outputs": [],
   "source": [
    "final_street_df = pd.concat(borough_list).reset_index(drop=True)\n"
   ]
  },
  {
   "cell_type": "code",
   "execution_count": 747,
   "metadata": {},
   "outputs": [
    {
     "data": {
      "text/plain": [
       "month      2014-12-31 00:00:00\n",
       "borough                  bronx\n",
       "Name: 0, dtype: object"
      ]
     },
     "execution_count": 747,
     "metadata": {},
     "output_type": "execute_result"
    }
   ],
   "source": [
    "final_street_df.loc[0,['month','borough']]"
   ]
  },
  {
   "cell_type": "code",
   "execution_count": 748,
   "metadata": {},
   "outputs": [],
   "source": [
    "for i in range(1,final_street_df.shape[0]):\n",
    "    nan_columns = final_street_df.columns[final_street_df.iloc[i].isna()]\n",
    "    if nan_columns.size != 0:\n",
    "        final_street_df.loc[i,nan_columns] = final_street_df.loc[i-1,nan_columns]"
   ]
  },
  {
   "cell_type": "markdown",
   "metadata": {},
   "source": [
    "Air Quality"
   ]
  },
  {
   "cell_type": "code",
   "execution_count": 749,
   "metadata": {},
   "outputs": [],
   "source": [
    "# combine 2015 and 2016 data\n",
    "_air_dict = {}\n",
    "for i in ['kings', 'queens', 'manhattan', 'staten island', 'bronx']:\n",
    "    air_df_2016 = pd.read_csv('data/Air Quality/nyc air '+ i +' 2016.csv')\n",
    "    air_df_2015 = pd.read_csv('data/Air Quality/nyc air '+ i +' 2015.csv')\n",
    "    _air_dict[i] = pd.concat([air_df_2015, air_df_2016])"
   ]
  },
  {
   "cell_type": "code",
   "execution_count": 750,
   "metadata": {},
   "outputs": [],
   "source": [
    "def get_feature_by_month(df,borough_name):\n",
    "    df = df.rename(columns={'Date':'month','PM25':'PM2.5'})\n",
    "    date_range = pd.to_datetime(pd.date_range('2014-12-30','2017-01-01',freq='1M'))\n",
    "    df['month'] = pd.to_datetime(df['month'])\n",
    "    res = pd.DataFrame()\n",
    "    item = {}\n",
    "    for idx in tqdm(range(1,len(date_range))):\n",
    "        selected_month = (df['month']>=date_range[idx-1]) & (df['month'] < date_range[idx])\n",
    "        df_selected = df[selected_month]\n",
    "        item['month'] = date_range[idx - 1]\n",
    "        item['Overall AQI Value'] = df_selected['Overall AQI Value'].mean(axis=0)\n",
    "        total = len(df_selected)\n",
    "        for i in ['CO', 'PM2.5','SO2','NO2','Ozone']:\n",
    "            item[i] = (df_selected['Main Pollutant'] == i).sum()/  total\n",
    "        item['borough'] = borough_name\n",
    "        res = res.append(item,ignore_index=True)\n",
    "    \n",
    "    return res"
   ]
  },
  {
   "cell_type": "code",
   "execution_count": 751,
   "metadata": {},
   "outputs": [
    {
     "name": "stderr",
     "output_type": "stream",
     "text": [
      "100%|██████████| 24/24 [00:00<00:00, 168.46it/s]\n",
      "100%|██████████| 24/24 [00:00<00:00, 165.02it/s]\n",
      "100%|██████████| 24/24 [00:00<00:00, 165.69it/s]\n",
      "100%|██████████| 24/24 [00:00<00:00, 167.56it/s]\n",
      "100%|██████████| 24/24 [00:00<00:00, 169.56it/s]\n"
     ]
    }
   ],
   "source": [
    "for i in ['kings', 'queens', 'manhattan', 'staten island', 'bronx']:\n",
    "    _air_dict[i] = get_feature_by_month(_air_dict[i],i)"
   ]
  },
  {
   "cell_type": "code",
   "execution_count": 752,
   "metadata": {},
   "outputs": [
    {
     "data": {
      "text/html": [
       "<div>\n",
       "<style scoped>\n",
       "    .dataframe tbody tr th:only-of-type {\n",
       "        vertical-align: middle;\n",
       "    }\n",
       "\n",
       "    .dataframe tbody tr th {\n",
       "        vertical-align: top;\n",
       "    }\n",
       "\n",
       "    .dataframe thead th {\n",
       "        text-align: right;\n",
       "    }\n",
       "</style>\n",
       "<table border=\"1\" class=\"dataframe\">\n",
       "  <thead>\n",
       "    <tr style=\"text-align: right;\">\n",
       "      <th></th>\n",
       "      <th>CO</th>\n",
       "      <th>NO2</th>\n",
       "      <th>Overall AQI Value</th>\n",
       "      <th>Ozone</th>\n",
       "      <th>PM2.5</th>\n",
       "      <th>SO2</th>\n",
       "      <th>borough</th>\n",
       "      <th>month</th>\n",
       "    </tr>\n",
       "  </thead>\n",
       "  <tbody>\n",
       "    <tr>\n",
       "      <th>0</th>\n",
       "      <td>0.0</td>\n",
       "      <td>0.0</td>\n",
       "      <td>44.466667</td>\n",
       "      <td>0.0</td>\n",
       "      <td>1.0</td>\n",
       "      <td>0.0</td>\n",
       "      <td>kings</td>\n",
       "      <td>2014-12-31</td>\n",
       "    </tr>\n",
       "    <tr>\n",
       "      <th>1</th>\n",
       "      <td>0.0</td>\n",
       "      <td>0.0</td>\n",
       "      <td>44.535714</td>\n",
       "      <td>0.0</td>\n",
       "      <td>1.0</td>\n",
       "      <td>0.0</td>\n",
       "      <td>kings</td>\n",
       "      <td>2015-01-31</td>\n",
       "    </tr>\n",
       "  </tbody>\n",
       "</table>\n",
       "</div>"
      ],
      "text/plain": [
       "    CO  NO2  Overall AQI Value  Ozone  PM2.5  SO2 borough      month\n",
       "0  0.0  0.0          44.466667    0.0    1.0  0.0   kings 2014-12-31\n",
       "1  0.0  0.0          44.535714    0.0    1.0  0.0   kings 2015-01-31"
      ]
     },
     "execution_count": 752,
     "metadata": {},
     "output_type": "execute_result"
    }
   ],
   "source": [
    "final_air = pd.concat((_air_dict.values()))\n",
    "final_air = final_air.reset_index(drop=True)\n",
    "final_air.head(2)"
   ]
  },
  {
   "cell_type": "markdown",
   "metadata": {},
   "source": [
    "Crime Rate"
   ]
  },
  {
   "cell_type": "code",
   "execution_count": 722,
   "metadata": {},
   "outputs": [
    {
     "name": "stderr",
     "output_type": "stream",
     "text": [
      "/usr/local/lib/python3.7/site-packages/IPython/core/interactiveshell.py:3058: DtypeWarning: Columns (21) have mixed types. Specify dtype option on import or set low_memory=False.\n",
      "  interactivity=interactivity, compiler=compiler, result=result)\n"
     ]
    }
   ],
   "source": [
    "crime_df = pd.read_csv(data_path / 'Crime Rate/crime 2015-2016.csv')"
   ]
  },
  {
   "cell_type": "code",
   "execution_count": 723,
   "metadata": {},
   "outputs": [
    {
     "data": {
      "text/html": [
       "<div>\n",
       "<style scoped>\n",
       "    .dataframe tbody tr th:only-of-type {\n",
       "        vertical-align: middle;\n",
       "    }\n",
       "\n",
       "    .dataframe tbody tr th {\n",
       "        vertical-align: top;\n",
       "    }\n",
       "\n",
       "    .dataframe thead th {\n",
       "        text-align: right;\n",
       "    }\n",
       "</style>\n",
       "<table border=\"1\" class=\"dataframe\">\n",
       "  <thead>\n",
       "    <tr style=\"text-align: right;\">\n",
       "      <th></th>\n",
       "      <th>Unnamed: 0</th>\n",
       "      <th>CMPLNT_NUM</th>\n",
       "      <th>CMPLNT_FR_DT</th>\n",
       "      <th>CMPLNT_FR_TM</th>\n",
       "      <th>CMPLNT_TO_DT</th>\n",
       "      <th>CMPLNT_TO_TM</th>\n",
       "      <th>ADDR_PCT_CD</th>\n",
       "      <th>RPT_DT</th>\n",
       "      <th>KY_CD</th>\n",
       "      <th>OFNS_DESC</th>\n",
       "      <th>...</th>\n",
       "      <th>SUSP_SEX</th>\n",
       "      <th>TRANSIT_DISTRICT</th>\n",
       "      <th>Latitude</th>\n",
       "      <th>Longitude</th>\n",
       "      <th>Lat_Lon</th>\n",
       "      <th>PATROL_BORO</th>\n",
       "      <th>STATION_NAME</th>\n",
       "      <th>VIC_AGE_GROUP</th>\n",
       "      <th>VIC_RACE</th>\n",
       "      <th>VIC_SEX</th>\n",
       "    </tr>\n",
       "  </thead>\n",
       "  <tbody>\n",
       "    <tr>\n",
       "      <th>0</th>\n",
       "      <td>3018410</td>\n",
       "      <td>111222720</td>\n",
       "      <td>06/11/2015</td>\n",
       "      <td>11:36:00</td>\n",
       "      <td>NaN</td>\n",
       "      <td>NaN</td>\n",
       "      <td>44.0</td>\n",
       "      <td>06/11/2015</td>\n",
       "      <td>341</td>\n",
       "      <td>PETIT LARCENY</td>\n",
       "      <td>...</td>\n",
       "      <td>M</td>\n",
       "      <td>NaN</td>\n",
       "      <td>40.830128</td>\n",
       "      <td>-73.914423</td>\n",
       "      <td>(40.830128476, -73.914422779)</td>\n",
       "      <td>PATROL BORO BRONX</td>\n",
       "      <td>NaN</td>\n",
       "      <td>45-64</td>\n",
       "      <td>BLACK</td>\n",
       "      <td>M</td>\n",
       "    </tr>\n",
       "    <tr>\n",
       "      <th>1</th>\n",
       "      <td>3018411</td>\n",
       "      <td>292167760</td>\n",
       "      <td>09/03/2015</td>\n",
       "      <td>17:10:00</td>\n",
       "      <td>NaN</td>\n",
       "      <td>NaN</td>\n",
       "      <td>44.0</td>\n",
       "      <td>09/03/2015</td>\n",
       "      <td>235</td>\n",
       "      <td>DANGEROUS DRUGS</td>\n",
       "      <td>...</td>\n",
       "      <td>M</td>\n",
       "      <td>NaN</td>\n",
       "      <td>40.833925</td>\n",
       "      <td>-73.927008</td>\n",
       "      <td>(40.833924833, -73.927008074)</td>\n",
       "      <td>PATROL BORO BRONX</td>\n",
       "      <td>NaN</td>\n",
       "      <td>NaN</td>\n",
       "      <td>UNKNOWN</td>\n",
       "      <td>E</td>\n",
       "    </tr>\n",
       "    <tr>\n",
       "      <th>2</th>\n",
       "      <td>3018420</td>\n",
       "      <td>594527773</td>\n",
       "      <td>04/01/2016</td>\n",
       "      <td>00:01:00</td>\n",
       "      <td>04/30/2018</td>\n",
       "      <td>23:59:00</td>\n",
       "      <td>34.0</td>\n",
       "      <td>05/29/2018</td>\n",
       "      <td>104</td>\n",
       "      <td>RAPE</td>\n",
       "      <td>...</td>\n",
       "      <td>M</td>\n",
       "      <td>NaN</td>\n",
       "      <td>40.851488</td>\n",
       "      <td>-73.935458</td>\n",
       "      <td>(40.851487774, -73.935457967)</td>\n",
       "      <td>PATROL BORO MAN NORTH</td>\n",
       "      <td>NaN</td>\n",
       "      <td>&lt;18</td>\n",
       "      <td>WHITE HISPANIC</td>\n",
       "      <td>F</td>\n",
       "    </tr>\n",
       "    <tr>\n",
       "      <th>3</th>\n",
       "      <td>3018424</td>\n",
       "      <td>487791415</td>\n",
       "      <td>04/27/2015</td>\n",
       "      <td>16:00:00</td>\n",
       "      <td>NaN</td>\n",
       "      <td>NaN</td>\n",
       "      <td>113.0</td>\n",
       "      <td>04/27/2015</td>\n",
       "      <td>126</td>\n",
       "      <td>MISCELLANEOUS PENAL LAW</td>\n",
       "      <td>...</td>\n",
       "      <td>M</td>\n",
       "      <td>NaN</td>\n",
       "      <td>40.681686</td>\n",
       "      <td>-73.771141</td>\n",
       "      <td>(40.681686211, -73.77114086)</td>\n",
       "      <td>PATROL BORO QUEENS SOUTH</td>\n",
       "      <td>NaN</td>\n",
       "      <td>25-44</td>\n",
       "      <td>BLACK</td>\n",
       "      <td>F</td>\n",
       "    </tr>\n",
       "    <tr>\n",
       "      <th>4</th>\n",
       "      <td>3018434</td>\n",
       "      <td>926821201</td>\n",
       "      <td>02/21/2016</td>\n",
       "      <td>20:10:00</td>\n",
       "      <td>NaN</td>\n",
       "      <td>NaN</td>\n",
       "      <td>32.0</td>\n",
       "      <td>02/21/2016</td>\n",
       "      <td>106</td>\n",
       "      <td>FELONY ASSAULT</td>\n",
       "      <td>...</td>\n",
       "      <td>U</td>\n",
       "      <td>NaN</td>\n",
       "      <td>40.809413</td>\n",
       "      <td>-73.944367</td>\n",
       "      <td>(40.809413199, -73.944367164)</td>\n",
       "      <td>PATROL BORO MAN NORTH</td>\n",
       "      <td>NaN</td>\n",
       "      <td>&lt;18</td>\n",
       "      <td>BLACK</td>\n",
       "      <td>M</td>\n",
       "    </tr>\n",
       "  </tbody>\n",
       "</table>\n",
       "<p>5 rows × 36 columns</p>\n",
       "</div>"
      ],
      "text/plain": [
       "   Unnamed: 0  CMPLNT_NUM CMPLNT_FR_DT CMPLNT_FR_TM CMPLNT_TO_DT CMPLNT_TO_TM  \\\n",
       "0     3018410   111222720   06/11/2015     11:36:00          NaN          NaN   \n",
       "1     3018411   292167760   09/03/2015     17:10:00          NaN          NaN   \n",
       "2     3018420   594527773   04/01/2016     00:01:00   04/30/2018     23:59:00   \n",
       "3     3018424   487791415   04/27/2015     16:00:00          NaN          NaN   \n",
       "4     3018434   926821201   02/21/2016     20:10:00          NaN          NaN   \n",
       "\n",
       "   ADDR_PCT_CD      RPT_DT  KY_CD                OFNS_DESC  ...  SUSP_SEX  \\\n",
       "0         44.0  06/11/2015    341            PETIT LARCENY  ...         M   \n",
       "1         44.0  09/03/2015    235          DANGEROUS DRUGS  ...         M   \n",
       "2         34.0  05/29/2018    104                     RAPE  ...         M   \n",
       "3        113.0  04/27/2015    126  MISCELLANEOUS PENAL LAW  ...         M   \n",
       "4         32.0  02/21/2016    106           FELONY ASSAULT  ...         U   \n",
       "\n",
       "  TRANSIT_DISTRICT   Latitude  Longitude                        Lat_Lon  \\\n",
       "0              NaN  40.830128 -73.914423  (40.830128476, -73.914422779)   \n",
       "1              NaN  40.833925 -73.927008  (40.833924833, -73.927008074)   \n",
       "2              NaN  40.851488 -73.935458  (40.851487774, -73.935457967)   \n",
       "3              NaN  40.681686 -73.771141   (40.681686211, -73.77114086)   \n",
       "4              NaN  40.809413 -73.944367  (40.809413199, -73.944367164)   \n",
       "\n",
       "                PATROL_BORO STATION_NAME VIC_AGE_GROUP        VIC_RACE VIC_SEX  \n",
       "0         PATROL BORO BRONX          NaN         45-64           BLACK       M  \n",
       "1         PATROL BORO BRONX          NaN           NaN         UNKNOWN       E  \n",
       "2     PATROL BORO MAN NORTH          NaN           <18  WHITE HISPANIC       F  \n",
       "3  PATROL BORO QUEENS SOUTH          NaN         25-44           BLACK       F  \n",
       "4     PATROL BORO MAN NORTH          NaN           <18           BLACK       M  \n",
       "\n",
       "[5 rows x 36 columns]"
      ]
     },
     "execution_count": 723,
     "metadata": {},
     "output_type": "execute_result"
    }
   ],
   "source": [
    "\n",
    "# print (crime_df.columns)\n",
    "\n",
    "crime_df['BORO_NM'] = crime_df['BORO_NM'].str.lower()\n",
    "crime_df['VIC_RACE']\n",
    "crime_df.head(5)"
   ]
  },
  {
   "cell_type": "code",
   "execution_count": 724,
   "metadata": {},
   "outputs": [
    {
     "data": {
      "text/plain": [
       "array(['06/11/2015', '09/03/2015', '05/29/2018', ..., '11/18/2017',\n",
       "       '08/19/2017', '11/23/2017'], dtype=object)"
      ]
     },
     "execution_count": 724,
     "metadata": {},
     "output_type": "execute_result"
    }
   ],
   "source": [
    "crime_df['RPT_DT'].unique()"
   ]
  },
  {
   "cell_type": "code",
   "execution_count": 725,
   "metadata": {},
   "outputs": [
    {
     "data": {
      "text/plain": [
       "array(['bronx', 'manhattan', 'queens', 'brooklyn', 'staten island', nan],\n",
       "      dtype=object)"
      ]
     },
     "execution_count": 725,
     "metadata": {},
     "output_type": "execute_result"
    }
   ],
   "source": [
    "crime_df['BORO_NM'].unique()"
   ]
  },
  {
   "cell_type": "code",
   "execution_count": 726,
   "metadata": {},
   "outputs": [],
   "source": [
    "whitelist = {'BORO_NM','CMPLNT_FR_DT','CMPLNT_FR_TM','CMPLNT_TO_DT','CMPLNT_TO_TM','CRM_ATPT_CPTD_CD','OFNS_DESC'\n",
    "            ,'KY_CD','SUSP_AGE_GROUP','SUSP_SEX','VIC_RACE','VIC_SEX','VIC_AGE_GROUP'}"
   ]
  },
  {
   "cell_type": "code",
   "execution_count": 727,
   "metadata": {},
   "outputs": [],
   "source": [
    "crime_new = crime_df.copy()\n",
    "for i in crime_df.columns:\n",
    "    if i not in whitelist:\n",
    "        crime_new = crime_new.drop(columns=i)"
   ]
  },
  {
   "cell_type": "code",
   "execution_count": 728,
   "metadata": {},
   "outputs": [
    {
     "data": {
      "text/html": [
       "<div>\n",
       "<style scoped>\n",
       "    .dataframe tbody tr th:only-of-type {\n",
       "        vertical-align: middle;\n",
       "    }\n",
       "\n",
       "    .dataframe tbody tr th {\n",
       "        vertical-align: top;\n",
       "    }\n",
       "\n",
       "    .dataframe thead th {\n",
       "        text-align: right;\n",
       "    }\n",
       "</style>\n",
       "<table border=\"1\" class=\"dataframe\">\n",
       "  <thead>\n",
       "    <tr style=\"text-align: right;\">\n",
       "      <th></th>\n",
       "      <th>CMPLNT_FR_DT</th>\n",
       "      <th>CMPLNT_FR_TM</th>\n",
       "      <th>CMPLNT_TO_DT</th>\n",
       "      <th>CMPLNT_TO_TM</th>\n",
       "      <th>KY_CD</th>\n",
       "      <th>OFNS_DESC</th>\n",
       "      <th>CRM_ATPT_CPTD_CD</th>\n",
       "      <th>BORO_NM</th>\n",
       "      <th>SUSP_AGE_GROUP</th>\n",
       "      <th>SUSP_SEX</th>\n",
       "      <th>VIC_AGE_GROUP</th>\n",
       "      <th>VIC_RACE</th>\n",
       "      <th>VIC_SEX</th>\n",
       "    </tr>\n",
       "  </thead>\n",
       "  <tbody>\n",
       "    <tr>\n",
       "      <th>0</th>\n",
       "      <td>06/11/2015</td>\n",
       "      <td>11:36:00</td>\n",
       "      <td>NaN</td>\n",
       "      <td>NaN</td>\n",
       "      <td>341</td>\n",
       "      <td>PETIT LARCENY</td>\n",
       "      <td>COMPLETED</td>\n",
       "      <td>bronx</td>\n",
       "      <td>NaN</td>\n",
       "      <td>M</td>\n",
       "      <td>45-64</td>\n",
       "      <td>BLACK</td>\n",
       "      <td>M</td>\n",
       "    </tr>\n",
       "    <tr>\n",
       "      <th>1</th>\n",
       "      <td>09/03/2015</td>\n",
       "      <td>17:10:00</td>\n",
       "      <td>NaN</td>\n",
       "      <td>NaN</td>\n",
       "      <td>235</td>\n",
       "      <td>DANGEROUS DRUGS</td>\n",
       "      <td>COMPLETED</td>\n",
       "      <td>bronx</td>\n",
       "      <td>18-24</td>\n",
       "      <td>M</td>\n",
       "      <td>NaN</td>\n",
       "      <td>UNKNOWN</td>\n",
       "      <td>E</td>\n",
       "    </tr>\n",
       "    <tr>\n",
       "      <th>2</th>\n",
       "      <td>04/01/2016</td>\n",
       "      <td>00:01:00</td>\n",
       "      <td>04/30/2018</td>\n",
       "      <td>23:59:00</td>\n",
       "      <td>104</td>\n",
       "      <td>RAPE</td>\n",
       "      <td>COMPLETED</td>\n",
       "      <td>manhattan</td>\n",
       "      <td>UNKNOWN</td>\n",
       "      <td>M</td>\n",
       "      <td>&lt;18</td>\n",
       "      <td>WHITE HISPANIC</td>\n",
       "      <td>F</td>\n",
       "    </tr>\n",
       "    <tr>\n",
       "      <th>3</th>\n",
       "      <td>04/27/2015</td>\n",
       "      <td>16:00:00</td>\n",
       "      <td>NaN</td>\n",
       "      <td>NaN</td>\n",
       "      <td>126</td>\n",
       "      <td>MISCELLANEOUS PENAL LAW</td>\n",
       "      <td>COMPLETED</td>\n",
       "      <td>queens</td>\n",
       "      <td>25-44</td>\n",
       "      <td>M</td>\n",
       "      <td>25-44</td>\n",
       "      <td>BLACK</td>\n",
       "      <td>F</td>\n",
       "    </tr>\n",
       "    <tr>\n",
       "      <th>4</th>\n",
       "      <td>02/21/2016</td>\n",
       "      <td>20:10:00</td>\n",
       "      <td>NaN</td>\n",
       "      <td>NaN</td>\n",
       "      <td>106</td>\n",
       "      <td>FELONY ASSAULT</td>\n",
       "      <td>COMPLETED</td>\n",
       "      <td>manhattan</td>\n",
       "      <td>UNKNOWN</td>\n",
       "      <td>U</td>\n",
       "      <td>&lt;18</td>\n",
       "      <td>BLACK</td>\n",
       "      <td>M</td>\n",
       "    </tr>\n",
       "  </tbody>\n",
       "</table>\n",
       "</div>"
      ],
      "text/plain": [
       "  CMPLNT_FR_DT CMPLNT_FR_TM CMPLNT_TO_DT CMPLNT_TO_TM  KY_CD  \\\n",
       "0   06/11/2015     11:36:00          NaN          NaN    341   \n",
       "1   09/03/2015     17:10:00          NaN          NaN    235   \n",
       "2   04/01/2016     00:01:00   04/30/2018     23:59:00    104   \n",
       "3   04/27/2015     16:00:00          NaN          NaN    126   \n",
       "4   02/21/2016     20:10:00          NaN          NaN    106   \n",
       "\n",
       "                 OFNS_DESC CRM_ATPT_CPTD_CD    BORO_NM SUSP_AGE_GROUP  \\\n",
       "0            PETIT LARCENY        COMPLETED      bronx            NaN   \n",
       "1          DANGEROUS DRUGS        COMPLETED      bronx          18-24   \n",
       "2                     RAPE        COMPLETED  manhattan        UNKNOWN   \n",
       "3  MISCELLANEOUS PENAL LAW        COMPLETED     queens          25-44   \n",
       "4           FELONY ASSAULT        COMPLETED  manhattan        UNKNOWN   \n",
       "\n",
       "  SUSP_SEX VIC_AGE_GROUP        VIC_RACE VIC_SEX  \n",
       "0        M         45-64           BLACK       M  \n",
       "1        M           NaN         UNKNOWN       E  \n",
       "2        M           <18  WHITE HISPANIC       F  \n",
       "3        M         25-44           BLACK       F  \n",
       "4        U           <18           BLACK       M  "
      ]
     },
     "execution_count": 728,
     "metadata": {},
     "output_type": "execute_result"
    }
   ],
   "source": [
    "crime_new.head(5)"
   ]
  },
  {
   "cell_type": "code",
   "execution_count": 729,
   "metadata": {},
   "outputs": [
    {
     "name": "stdout",
     "output_type": "stream",
     "text": [
      "903656\n"
     ]
    }
   ],
   "source": [
    "crime_new['SUSP_AGE_GROUP'].unique()\n",
    "# print ((crime_new['SUSP_AGE_GROUP'].isna()).sum())\n",
    "susp_age_known = ~crime_new['SUSP_AGE_GROUP'].isin(['<18','25-44','18-24','45-64','65+','UNKNOWN'])\n",
    "result = crime_new.drop(crime_new.loc[susp_age_known].index)\n",
    "vic_age_known = ~result['VIC_AGE_GROUP'].isin(['<18','25-44','18-24','45-64','65+','UNKNOWN'])\n",
    "result = crime_new.drop(result.loc[vic_age_known].index)\n",
    "print (len(result))"
   ]
  },
  {
   "cell_type": "code",
   "execution_count": 730,
   "metadata": {},
   "outputs": [],
   "source": [
    "result['SUSP_AGE_GROUP'].unique()\n",
    "result['CMPLNT_FR_DT'] = pd.to_datetime(result['CMPLNT_FR_DT'])\n",
    "result['CMPLNT_FR_TM'] = pd.to_timedelta(result['CMPLNT_FR_TM'])"
   ]
  },
  {
   "cell_type": "code",
   "execution_count": 731,
   "metadata": {},
   "outputs": [
    {
     "data": {
      "text/plain": [
       "DatetimeIndex(['2015-12-31', '2016-01-31', '2016-02-29', '2016-03-31',\n",
       "               '2016-04-30', '2016-05-31', '2016-06-30', '2016-07-31',\n",
       "               '2016-08-31', '2016-09-30', '2016-10-31', '2016-11-30',\n",
       "               '2016-12-31'],\n",
       "              dtype='datetime64[ns]', freq='M')"
      ]
     },
     "execution_count": 731,
     "metadata": {},
     "output_type": "execute_result"
    }
   ],
   "source": [
    "import datetime\n",
    "pd.date_range('2015-12-31','2017-01-01',freq='1M')"
   ]
  },
  {
   "cell_type": "code",
   "execution_count": 732,
   "metadata": {},
   "outputs": [],
   "source": [
    "def avg_datetime(series):\n",
    "    import functools\n",
    "    import operator\n",
    "    dt_min = series.min()\n",
    "    deltas = [x-dt_min for x in series]\n",
    "    return dt_min + functools.reduce(operator.add, deltas) / len(deltas)"
   ]
  },
  {
   "cell_type": "code",
   "execution_count": 733,
   "metadata": {},
   "outputs": [],
   "source": [
    "def merge_features(df,felonies, vic_race,age_group,drop_columns=False):\n",
    "    date_range = pd.to_datetime(pd.date_range('2014-12-30','2017-01-01',freq='1M'))\n",
    "    res = pd.DataFrame()\n",
    "    for idx in tqdm(range(1,len(date_range))):\n",
    "        item = {}\n",
    "        selected_month = (df['CMPLNT_FR_DT']>=date_range[idx-1]) & (df['CMPLNT_FR_DT'] < date_range[idx])\n",
    "        df_selected = df[selected_month]\n",
    "        item['COMPLETION'] = (df_selected['CRM_ATPT_CPTD_CD'] == 'COMPLETED').sum()\n",
    "        for i in age_group:\n",
    "            item['susp_age '+ i] = (df_selected['SUSP_AGE_GROUP'] == i).sum()\n",
    "    #     res['SUS_AGE<18'] = (df['SUSP_AGE_GROUP'] == '<18').sum()\n",
    "    #     res['SUS_AGE 25-44'] = (df['SUSP_AGE_GROUP'] == '25-44').sum()\n",
    "    #     res['SUS_AGE 18-24'] = (df['SUSP_AGE_GROUP'] == '18-24').sum()\n",
    "    #     res['SUS_AGE 45-64'] = (df['SUSP_AGE_GROUP'] == '45-64').sum()\n",
    "    #     res['SUS_AGE 65+'] = (df['SUSP_AGE_GROUP'] == '65+').sum()\n",
    "        for j in vic_race:\n",
    "            item['vic_race_' + j] = (df_selected['VIC_RACE'] == j ).sum()\n",
    "\n",
    "        for k in felonies:\n",
    "            item[k] = (df_selected['OFNS_DESC'] == k).sum()\n",
    "        item['vic_female'] = (df_selected['VIC_SEX'] == 'F').sum()\n",
    "        item['vic_male'] = (df_selected['VIC_SEX'] == 'M').sum()\n",
    "        item['vic_organ'] = (df_selected['VIC_SEX'] == 'D').sum()\n",
    "        item['total_num'] = len(df_selected)\n",
    "        item['cmplt_time_mean'] = avg_datetime(df_selected['CMPLNT_FR_TM'])\n",
    "        item['borough'] = df_selected['BORO_NM'].iloc[0]\n",
    "        item['period'] = date_range[idx-1]\n",
    "        res = res.append(item,ignore_index=True)\n",
    "#         if drop_columns == True:\n",
    "#             columns = res.columns.tolist()\n",
    "#             columns.remove('BORO_NM')\n",
    "#             res = res.drop(columns=columns)\n",
    "    return res\n",
    "    "
   ]
  },
  {
   "cell_type": "code",
   "execution_count": 734,
   "metadata": {},
   "outputs": [],
   "source": [
    "# print (crime_df['OFNS_DESC'].unique())\n",
    "# print (crime_df['VIC_RACE'].unique())\n",
    "# print (crime_df['CRM_ATPT_CPTD_CD'].unique())"
   ]
  },
  {
   "cell_type": "code",
   "execution_count": 735,
   "metadata": {},
   "outputs": [
    {
     "name": "stderr",
     "output_type": "stream",
     "text": [
      "100%|██████████| 24/24 [00:06<00:00,  3.92it/s]\n",
      "100%|██████████| 24/24 [00:07<00:00,  3.08it/s]\n",
      "100%|██████████| 24/24 [00:06<00:00,  3.07it/s]\n",
      "100%|██████████| 24/24 [00:05<00:00,  4.40it/s]\n",
      "100%|██████████| 24/24 [00:01<00:00, 14.39it/s]\n"
     ]
    }
   ],
   "source": [
    "months = 12\n",
    "age_group = ['<18','25-44','18-24','45-64','65+','UNKNOWN']\n",
    "vic_race = crime_df['VIC_RACE'].unique()[:-1]\n",
    "\n",
    "felonies = ['RAPE','SEX CRIMES','ROBBERY','BURGLARY','CRIMINAL TRESPASS',\n",
    "            'KIDNAPPING & RELATED OFFENSES','PROSTITUTION & RELATED OFFENSES',\n",
    "             'HARRASSMENT 2','DANGEROUS DRUGS']\n",
    "result_grp = result.groupby('BORO_NM')\n",
    "borough_df_list = []\n",
    "# result_grouped.groups.keys()\n",
    "for i in result_grp.groups.keys():\n",
    "    grp = result_grp.get_group(i)\n",
    "    borough_df_list.append(merge_features(grp,felonies=felonies,age_group=age_group,\n",
    "                                          vic_race=vic_race,drop_columns=True))\n",
    "    "
   ]
  },
  {
   "cell_type": "code",
   "execution_count": 736,
   "metadata": {},
   "outputs": [],
   "source": [
    "# borough_df_list[0]\n",
    "final_crime_df = pd.concat(borough_df_list).reset_index(drop=True)"
   ]
  },
  {
   "cell_type": "code",
   "execution_count": 737,
   "metadata": {},
   "outputs": [],
   "source": [
    "# final_df.to_csv('/Users/apple/Desktop/crime_reduced.csv')"
   ]
  },
  {
   "cell_type": "code",
   "execution_count": 738,
   "metadata": {},
   "outputs": [
    {
     "name": "stdout",
     "output_type": "stream",
     "text": [
      "(120, 30)\n"
     ]
    }
   ],
   "source": [
    "final_crime_df['borough'].unique()\n",
    "print (final_crime_df.shape)"
   ]
  },
  {
   "cell_type": "markdown",
   "metadata": {},
   "source": [
    "##### Merging all the 3 datasets"
   ]
  },
  {
   "cell_type": "code",
   "execution_count": 754,
   "metadata": {},
   "outputs": [
    {
     "name": "stdout",
     "output_type": "stream",
     "text": [
      "Index(['borough', 'month', 'Acceptable Sidewalks %',\n",
      "       'Acceptable Sidewalks % - Previous Fiscal Quarter',\n",
      "       'Acceptable Sidewalks % - Previous Month',\n",
      "       'Acceptable Sidewalks % - Previous Year', 'Acceptable Streets %',\n",
      "       'Acceptable Streets % - Previous Fiscal Quarter',\n",
      "       'Acceptable Streets % - Previous Month',\n",
      "       'Acceptable Streets % - Previous Year'],\n",
      "      dtype='object')\n",
      "Index(['CO', 'NO2', 'Overall AQI Value', 'Ozone', 'PM2.5', 'SO2', 'borough',\n",
      "       'month'],\n",
      "      dtype='object')\n",
      "Index(['BURGLARY', 'COMPLETION', 'CRIMINAL TRESPASS', 'DANGEROUS DRUGS',\n",
      "       'HARRASSMENT 2', 'KIDNAPPING & RELATED OFFENSES',\n",
      "       'PROSTITUTION & RELATED OFFENSES', 'RAPE', 'ROBBERY', 'SEX CRIMES',\n",
      "       'borough', 'cmplt_time_mean', 'month', 'susp_age 18-24',\n",
      "       'susp_age 25-44', 'susp_age 45-64', 'susp_age 65+', 'susp_age <18',\n",
      "       'susp_age UNKNOWN', 'total_num', 'vic_female', 'vic_male', 'vic_organ',\n",
      "       'vic_race_AMERICAN INDIAN/ALASKAN NATIVE',\n",
      "       'vic_race_ASIAN / PACIFIC ISLANDER', 'vic_race_BLACK',\n",
      "       'vic_race_BLACK HISPANIC', 'vic_race_UNKNOWN', 'vic_race_WHITE',\n",
      "       'vic_race_WHITE HISPANIC'],\n",
      "      dtype='object')\n",
      "{'month', 'borough'}\n"
     ]
    }
   ],
   "source": [
    "final_crime_df = final_crime_df.rename(columns={'period':'month'})\n",
    "print (final_street_df.columns)\n",
    "print (final_air.columns)\n",
    "print (final_crime_df.columns)\n",
    "print (set(final_street_df.columns).intersection(set(final_air.columns)).intersection(set(final_crime_df.columns)))"
   ]
  },
  {
   "cell_type": "code",
   "execution_count": 755,
   "metadata": {},
   "outputs": [
    {
     "data": {
      "text/html": [
       "<div>\n",
       "<style scoped>\n",
       "    .dataframe tbody tr th:only-of-type {\n",
       "        vertical-align: middle;\n",
       "    }\n",
       "\n",
       "    .dataframe tbody tr th {\n",
       "        vertical-align: top;\n",
       "    }\n",
       "\n",
       "    .dataframe thead th {\n",
       "        text-align: right;\n",
       "    }\n",
       "</style>\n",
       "<table border=\"1\" class=\"dataframe\">\n",
       "  <thead>\n",
       "    <tr style=\"text-align: right;\">\n",
       "      <th></th>\n",
       "      <th>CO</th>\n",
       "      <th>NO2</th>\n",
       "      <th>Overall AQI Value</th>\n",
       "      <th>Ozone</th>\n",
       "      <th>PM2.5</th>\n",
       "      <th>SO2</th>\n",
       "      <th>borough</th>\n",
       "      <th>month</th>\n",
       "    </tr>\n",
       "  </thead>\n",
       "  <tbody>\n",
       "    <tr>\n",
       "      <th>0</th>\n",
       "      <td>0.0</td>\n",
       "      <td>0.0</td>\n",
       "      <td>44.466667</td>\n",
       "      <td>0.0</td>\n",
       "      <td>1.0</td>\n",
       "      <td>0.0</td>\n",
       "      <td>kings</td>\n",
       "      <td>2014-12-31</td>\n",
       "    </tr>\n",
       "    <tr>\n",
       "      <th>1</th>\n",
       "      <td>0.0</td>\n",
       "      <td>0.0</td>\n",
       "      <td>44.535714</td>\n",
       "      <td>0.0</td>\n",
       "      <td>1.0</td>\n",
       "      <td>0.0</td>\n",
       "      <td>kings</td>\n",
       "      <td>2015-01-31</td>\n",
       "    </tr>\n",
       "  </tbody>\n",
       "</table>\n",
       "</div>"
      ],
      "text/plain": [
       "    CO  NO2  Overall AQI Value  Ozone  PM2.5  SO2 borough      month\n",
       "0  0.0  0.0          44.466667    0.0    1.0  0.0   kings 2014-12-31\n",
       "1  0.0  0.0          44.535714    0.0    1.0  0.0   kings 2015-01-31"
      ]
     },
     "execution_count": 755,
     "metadata": {},
     "output_type": "execute_result"
    }
   ],
   "source": [
    "final_air.head(2)"
   ]
  },
  {
   "cell_type": "code",
   "execution_count": 797,
   "metadata": {},
   "outputs": [],
   "source": [
    "air_crime_merged = pd.merge(final_crime_df,final_air,how='left',left_on=['month','borough'],right_on=['month','borough'])\n",
    "final_dataset = pd.merge(air_crime_merged, final_street_df,how='left',left_on=['month','borough'],right_on=['month','borough'])"
   ]
  },
  {
   "cell_type": "code",
   "execution_count": 798,
   "metadata": {},
   "outputs": [
    {
     "name": "stdout",
     "output_type": "stream",
     "text": [
      "(120, 44)\n"
     ]
    },
    {
     "data": {
      "text/plain": [
       "array(['2014-12-31T00:00:00.000000000', '2015-01-31T00:00:00.000000000',\n",
       "       '2015-02-28T00:00:00.000000000', '2015-03-31T00:00:00.000000000',\n",
       "       '2015-04-30T00:00:00.000000000', '2015-05-31T00:00:00.000000000',\n",
       "       '2015-06-30T00:00:00.000000000', '2015-07-31T00:00:00.000000000',\n",
       "       '2015-08-31T00:00:00.000000000', '2015-09-30T00:00:00.000000000',\n",
       "       '2015-10-31T00:00:00.000000000', '2015-11-30T00:00:00.000000000',\n",
       "       '2015-12-31T00:00:00.000000000', '2016-01-31T00:00:00.000000000',\n",
       "       '2016-02-29T00:00:00.000000000', '2016-03-31T00:00:00.000000000',\n",
       "       '2016-04-30T00:00:00.000000000', '2016-05-31T00:00:00.000000000',\n",
       "       '2016-06-30T00:00:00.000000000', '2016-07-31T00:00:00.000000000',\n",
       "       '2016-08-31T00:00:00.000000000', '2016-09-30T00:00:00.000000000',\n",
       "       '2016-10-31T00:00:00.000000000', '2016-11-30T00:00:00.000000000'],\n",
       "      dtype='datetime64[ns]')"
      ]
     },
     "execution_count": 798,
     "metadata": {},
     "output_type": "execute_result"
    }
   ],
   "source": [
    "print (final_dataset.shape)\n",
    "final_dataset['month'].unique()"
   ]
  },
  {
   "cell_type": "markdown",
   "metadata": {},
   "source": [
    "Approaches"
   ]
  },
  {
   "cell_type": "markdown",
   "metadata": {},
   "source": [
    "#### Approach \\#1: using Gaussian Mixture Models"
   ]
  },
  {
   "cell_type": "code",
   "execution_count": 1039,
   "metadata": {},
   "outputs": [],
   "source": [
    "# final_dataset = pd.read_excel('data/final_dataset.xlsx')"
   ]
  },
  {
   "cell_type": "code",
   "execution_count": 1040,
   "metadata": {},
   "outputs": [
    {
     "name": "stdout",
     "output_type": "stream",
     "text": [
      "Index(['BURGLARY', 'COMPLETION', 'CRIMINAL TRESPASS', 'DANGEROUS DRUGS',\n",
      "       'HARRASSMENT 2', 'KIDNAPPING & RELATED OFFENSES',\n",
      "       'PROSTITUTION & RELATED OFFENSES', 'RAPE', 'ROBBERY', 'SEX CRIMES',\n",
      "       'borough', 'month', 'susp_age 18-24', 'susp_age 25-44',\n",
      "       'susp_age 45-64', 'susp_age 65+', 'susp_age <18', 'susp_age UNKNOWN',\n",
      "       'total_num', 'vic_female', 'vic_male', 'vic_organ',\n",
      "       'vic_race_AMERICAN INDIAN/ALASKAN NATIVE',\n",
      "       'vic_race_ASIAN / PACIFIC ISLANDER', 'vic_race_BLACK',\n",
      "       'vic_race_BLACK HISPANIC', 'vic_race_UNKNOWN', 'vic_race_WHITE',\n",
      "       'vic_race_WHITE HISPANIC', 'CO', 'NO2', 'Overall AQI Value', 'Ozone',\n",
      "       'PM2.5', 'SO2', 'Acceptable Sidewalks %',\n",
      "       'Acceptable Sidewalks % - Previous Fiscal Quarter',\n",
      "       'Acceptable Sidewalks % - Previous Month',\n",
      "       'Acceptable Sidewalks % - Previous Year', 'Acceptable Streets %',\n",
      "       'Acceptable Streets % - Previous Fiscal Quarter',\n",
      "       'Acceptable Streets % - Previous Month',\n",
      "       'Acceptable Streets % - Previous Year'],\n",
      "      dtype='object')\n"
     ]
    }
   ],
   "source": [
    "final_dataset_edited = final_dataset.drop(columns=['cmplt_time_mean'])\n",
    "print (final_dataset_edited.columns)"
   ]
  },
  {
   "cell_type": "code",
   "execution_count": 1043,
   "metadata": {},
   "outputs": [
    {
     "name": "stdout",
     "output_type": "stream",
     "text": [
      "(120, 42)\n",
      "(111, 41)\n"
     ]
    }
   ],
   "source": [
    "from sklearn import mixture\n",
    "from time import time\n",
    "X = final_dataset_edited.drop(columns=['month'])\n",
    "from sklearn import preprocessing\n",
    "\n",
    "n_components = 7\n",
    "# print (X.columns)\n",
    "for i in range(X.shape[0]):\n",
    "    nan_columns = X.columns[X.iloc[i].isna()]\n",
    "    if len(nan_columns) != 0:\n",
    "        X.loc[i,nan_columns] = X.loc[i-1,nan_columns]\n",
    "X = X.sample(frac=1)\n",
    "print (X.shape)\n",
    "X_train, X_test = X.loc[:110,:], X.loc[110:,:]\n",
    "\n",
    "X_train,X_test = X_train.drop(columns=['borough']) , X_test.drop(columns=['borough']) \n",
    "X_norm = preprocessing.MinMaxScaler().fit_transform(X_train)\n",
    "\n",
    "\n",
    "print (X_norm.shape)\n",
    "gmm = mixture.BayesianGaussianMixture(n_components=n_components, covariance_type='full').fit(X_norm)"
   ]
  },
  {
   "cell_type": "code",
   "execution_count": 1082,
   "metadata": {},
   "outputs": [
    {
     "data": {
      "image/png": "[encoded data removed]",
      "text/plain": [
       "<Figure size 432x288 with 1 Axes>"
      ]
     },
     "metadata": {
      "needs_background": "light"
     },
     "output_type": "display_data"
    }
   ],
   "source": [
    "from sklearn.cluster import KMeans\n",
    "n_clusters = 0\n",
    "inertia = []\n",
    "for i in range(5,30):\n",
    "    n_clusters = i\n",
    "    kmeans = KMeans(n_clusters= n_clusters)\n",
    "    kmeans_pred = kmeans.fit_predict(X_norm)\n",
    "    inertia.append(kmeans.inertia_)\n",
    "    \n",
    "from matplotlib import pyplot as plt\n",
    "%matplotlib inline\n",
    "fig = plt.figure()\n",
    "plt.ylabel('Inertia')\n",
    "plt.xlabel('no. clusters')\n",
    "plt.title('Kmeans Inertia by no.Clusters')\n",
    "plt.plot(range(5,30), inertia, 'ro--')\n",
    "# cluster_groups = K.fit_predict(X_norm)\n",
    "plt.show()\n"
   ]
  },
  {
   "cell_type": "code",
   "execution_count": 1083,
   "metadata": {},
   "outputs": [],
   "source": [
    "fig.savefig('img/kmeans.jpg', bbox_inches='tight')"
   ]
  },
  {
   "cell_type": "code",
   "execution_count": 1045,
   "metadata": {},
   "outputs": [
    {
     "name": "stdout",
     "output_type": "stream",
     "text": [
      "[5 5 0 0 2 4 2 3 1 4 6 3 2 6 3 6 3 0 4 3 1 4 3 2 4 3 3 3 6 6 4 1 6 6 2 0 1\n",
      " 4 1 3 6 6 1 0 6 6 0 4 3 2 1 0 3 5 2 1 1 2 5 6 3 1 1 4 3 3 5 0 3 5 2 3 5 0\n",
      " 6 2 6 1 4 2 0 4 6 1 3 0 4 5 1 5 2 4 6 0 3 6 2 6 1 1 3 6 0 1 4 2 6 6 6 1 3]\n"
     ]
    }
   ],
   "source": [
    "kmeans = KMeans(n_clusters= 7)\n",
    "clusters_kmeans = kmeans.fit_predict(X_norm)\n",
    "print (clusters_kmeans)"
   ]
  },
  {
   "cell_type": "code",
   "execution_count": 1046,
   "metadata": {},
   "outputs": [
    {
     "name": "stdout",
     "output_type": "stream",
     "text": [
      "[5 5 2 2 4 4 4 3 1 4 0 3 4 0 3 0 3 2 4 3 1 4 3 4 4 3 3 3 1 0 4 6 1 1 4 2 6\n",
      " 4 1 3 0 0 1 2 0 1 2 6 3 4 1 2 3 5 4 1 1 4 5 1 3 6 1 4 3 3 5 2 3 5 4 3 5 2\n",
      " 0 4 0 6 6 4 2 4 0 1 3 2 4 5 6 5 4 4 0 2 3 0 4 0 1 6 3 0 2 6 4 4 0 1 0 1 3]\n"
     ]
    }
   ],
   "source": [
    "\n",
    "cluster_groups = gmm.fit_predict(X_norm)\n",
    "print (cluster_groups)"
   ]
  },
  {
   "cell_type": "code",
   "execution_count": 1047,
   "metadata": {},
   "outputs": [],
   "source": [
    "centers = gmm.means_\n",
    "# centers_df = pd.DataFrame(centers, columns = X_train.columns)"
   ]
  },
  {
   "cell_type": "code",
   "execution_count": 1084,
   "metadata": {},
   "outputs": [
    {
     "data": {
      "image/png": "[encoded data removed]",
      "text/plain": [
       "<Figure size 1800x576 with 3 Axes>"
      ]
     },
     "metadata": {
      "needs_background": "light"
     },
     "output_type": "display_data"
    }
   ],
   "source": [
    "from sklearn import manifold, datasets\n",
    "from matplotlib import pyplot as plt\n",
    "from sklearn import preprocessing\n",
    "import matplotlib.cm as cm\n",
    "import matplotlib\n",
    "%matplotlib inline\n",
    "tsne = manifold.TSNE(n_components=2, init='random', perplexity=30)\n",
    "\n",
    "X_transformed = tsne.fit_transform(X_norm)\n",
    "\n",
    "fig , subplots = plt.subplots(1,3,figsize=(25,8))\n",
    "ax = subplots[0]\n",
    "\n",
    "colors = cm.rainbow(np.linspace(0, 1, n_components))\n",
    "for i in range(n_components):\n",
    "    idx = cluster_groups == i\n",
    "    ax.scatter(X_transformed[idx,0],X_transformed[idx,1],color=colors[i])\n",
    "ax.axis('tight')\n",
    "_ = ax.set_title(f'GMM clustering n_components={n_components} T-SNE')\n",
    "\n",
    "ax = subplots[2]\n",
    "\n",
    "colors = cm.rainbow(np.linspace(0, 1, 5))\n",
    "for idx,i in enumerate(final_dataset_edited['borough'].unique()):\n",
    "    ind = X.loc[:110,'borough'] == i\n",
    "    ax.scatter(X_transformed[ind,0],X_transformed[ind,1],color=colors[idx])\n",
    "ax.axis('tight')\n",
    "_ = ax.set_title('Boroughs by T-SNE')\n",
    "\n",
    "ax = subplots[1]\n",
    "\n",
    "colors = cm.rainbow(np.linspace(0, 1, 7))\n",
    "for i in range(7):\n",
    "    idx = clusters_kmeans == i\n",
    "    ax.scatter(X_transformed[idx,0],X_transformed[idx,1],color=colors[i])\n",
    "ax.axis('tight')\n",
    "_ = ax.set_title(f'Kmeans clustering n_clusters={7} T-SNE')\n",
    "# plt.show()\n"
   ]
  },
  {
   "cell_type": "code",
   "execution_count": 1085,
   "metadata": {},
   "outputs": [],
   "source": [
    "fig.savefig('img/clustering.png')"
   ]
  },
  {
   "cell_type": "code",
   "execution_count": 1052,
   "metadata": {},
   "outputs": [],
   "source": [
    "# centers_df = centers_df.drop(columns=['borough'])"
   ]
  },
  {
   "cell_type": "code",
   "execution_count": 1053,
   "metadata": {},
   "outputs": [
    {
     "name": "stdout",
     "output_type": "stream",
     "text": [
      "Index(['BURGLARY', 'COMPLETION', 'CRIMINAL TRESPASS', 'DANGEROUS DRUGS',\n",
      "       'HARRASSMENT 2', 'KIDNAPPING & RELATED OFFENSES',\n",
      "       'PROSTITUTION & RELATED OFFENSES', 'RAPE', 'ROBBERY', 'SEX CRIMES',\n",
      "       'susp_age 18-24', 'susp_age 25-44', 'susp_age 45-64', 'susp_age 65+',\n",
      "       'susp_age <18', 'susp_age UNKNOWN', 'total_num', 'vic_female',\n",
      "       'vic_male', 'vic_organ', 'vic_race_AMERICAN INDIAN/ALASKAN NATIVE',\n",
      "       'vic_race_ASIAN / PACIFIC ISLANDER', 'vic_race_BLACK',\n",
      "       'vic_race_BLACK HISPANIC', 'vic_race_UNKNOWN', 'vic_race_WHITE',\n",
      "       'vic_race_WHITE HISPANIC', 'CO', 'NO2', 'Overall AQI Value', 'Ozone',\n",
      "       'PM2.5', 'SO2', 'Acceptable Sidewalks %',\n",
      "       'Acceptable Sidewalks % - Previous Fiscal Quarter',\n",
      "       'Acceptable Sidewalks % - Previous Month',\n",
      "       'Acceptable Sidewalks % - Previous Year', 'Acceptable Streets %',\n",
      "       'Acceptable Streets % - Previous Fiscal Quarter',\n",
      "       'Acceptable Streets % - Previous Month',\n",
      "       'Acceptable Streets % - Previous Year'],\n",
      "      dtype='object')\n"
     ]
    }
   ],
   "source": [
    "print (centers_df.columns)"
   ]
  },
  {
   "cell_type": "code",
   "execution_count": 1054,
   "metadata": {},
   "outputs": [],
   "source": [
    "def score_metric(x,weights=None,pos_features=None):\n",
    "    x_cp = x.copy()\n",
    "    for i in x_cp.columns:\n",
    "        if i not in pos_features:\n",
    "            x_cp[i] = 1 - x_cp[i]\n",
    "    if weights == None:\n",
    "        return x_cp.sum(axis=1) / x_cp.shape[1]\n",
    "    else:\n",
    "        score = 0\n",
    "        for key,w in weights.items():\n",
    "            score += w * x_cp[key]\n",
    "        return score / sum(w.values)"
   ]
  },
  {
   "cell_type": "code",
   "execution_count": 1055,
   "metadata": {},
   "outputs": [],
   "source": [
    "center_scores = score_metric(centers_df,pos_features=['Acceptable Streets %',\n",
    "       'Acceptable Sidewalks %', 'Acceptable Streets % - Previous Month',\n",
    "       'Acceptable Sidewalks % - Previous Month',\n",
    "       'Acceptable Streets % - Previous Year',\n",
    "       'Acceptable Sidewalks % - Previous Year',\n",
    "       'Acceptable Streets % - Previous Fiscal Quarter',\n",
    "       'Acceptable Sidewalks % - Previous Fiscal Quarter'])"
   ]
  },
  {
   "cell_type": "markdown",
   "metadata": {},
   "source": [
    "Scoring training data points based on distance"
   ]
  },
  {
   "cell_type": "code",
   "execution_count": 1056,
   "metadata": {},
   "outputs": [],
   "source": [
    "from scipy.spatial.distance import mahalanobis, cosine, euclidean\n",
    "from numpy.linalg import norm"
   ]
  },
  {
   "cell_type": "code",
   "execution_count": 1057,
   "metadata": {},
   "outputs": [],
   "source": [
    "# function to compare if a data point is better or worse compared to center\n",
    "def cmp_to_center(center,data_point,weights=None,pos_features=None):\n",
    "    r = data_point\n",
    "    r[:,pos_features] = 1 - r[:,pos_features]\n",
    "    center[:,pos_features] = 1 - center[:,pos_features]\n",
    "    if weights != None:\n",
    "        return (weights * (r - center)).sum()\n",
    "    else:\n",
    "        return (r - center).sum()"
   ]
  },
  {
   "cell_type": "code",
   "execution_count": 1058,
   "metadata": {},
   "outputs": [],
   "source": [
    "# data point distance from center based on l1-norm, mahalanobis, euclidean and cosine distance.\n",
    "mahal_dist = np.zeros((X_train.shape[0]),dtype=np.float32)\n",
    "cosine_dist = mahal_dist.copy()\n",
    "norm1_dist = mahal_dist.copy()\n",
    "euc_dist = mahal_dist.copy()\n",
    "datapoint_sign = np.zeros((X_train.shape[0]),dtype=np.float32)\n",
    "for j in range(X_train.shape[0]):\n",
    "    # print (centers)\n",
    "    cluster = cluster_groups[j]\n",
    "    grp = X_norm[ cluster == cluster_groups]\n",
    "    mahal_dist[j] = mahalanobis(X_norm[j:j+1,:],centers[cluster_groups[j],:], np.linalg.pinv(np.cov(grp.T))) / 41\n",
    "    cosine_dist[j] = cosine(X_norm[j:j+1,:],centers[cluster_groups[j],:])\n",
    "    norm1_dist[j] = norm(X_norm[j:j+1,:] - centers[cluster_groups[j],:],ord=1) /41\n",
    "    euc_dist[j] = euclidean(X_norm[j:j+1,:], centers[cluster_groups[j],:]) / 41\n",
    "    datapoint_sign[j] = cmp_to_center(X_norm[j:j+1,:], centers[cluster_groups[j],:]) / 41"
   ]
  },
  {
   "cell_type": "code",
   "execution_count": 1059,
   "metadata": {},
   "outputs": [],
   "source": [
    "datapoint_sign[datapoint_sign >= 0] = 1\n",
    "datapoint_sign[datapoint_sign <= 0] = -1"
   ]
  },
  {
   "cell_type": "code",
   "execution_count": 1060,
   "metadata": {},
   "outputs": [],
   "source": [
    "cluster_main_score = center_scores[cluster_groups]\n",
    "X_train_score = cluster_main_score + (datapoint_sign * mahal_dist)"
   ]
  },
  {
   "cell_type": "markdown",
   "metadata": {},
   "source": [
    "Now using SVM for regression"
   ]
  },
  {
   "cell_type": "code",
   "execution_count": 1061,
   "metadata": {},
   "outputs": [
    {
     "data": {
      "text/plain": [
       "0.010175446896943892"
      ]
     },
     "execution_count": 1061,
     "metadata": {},
     "output_type": "execute_result"
    }
   ],
   "source": [
    "from sklearn.svm import SVR\n",
    "from sklearn.metrics import mean_squared_error\n",
    "clf_rbf = SVR(C=1.0,gamma='scale',kernel='rbf')\n",
    "_ = clf_rbf.fit(X_norm,X_train_score)\n",
    "svm_prediction = clf_rbf.predict(X_norm)\n",
    "mean_squared_error(cluster_main_score,svm_prediction)"
   ]
  },
  {
   "cell_type": "code",
   "execution_count": 1062,
   "metadata": {},
   "outputs": [
    {
     "data": {
      "text/plain": [
       "0.021557898968212818"
      ]
     },
     "execution_count": 1062,
     "metadata": {},
     "output_type": "execute_result"
    }
   ],
   "source": [
    "\n",
    "clf_linear = SVR(C=0.1,gamma='scale',kernel='linear')\n",
    "_ = clf_linear.fit(X_norm,X_train_score)\n",
    "\n",
    "svm_prediction = clf_linear.predict(X_norm)\n",
    "mean_squared_error(cluster_main_score,svm_prediction)"
   ]
  },
  {
   "cell_type": "code",
   "execution_count": 1063,
   "metadata": {},
   "outputs": [],
   "source": [
    "from sklearn.neighbors import KNeighborsRegressor as KNR"
   ]
  },
  {
   "cell_type": "code",
   "execution_count": 1064,
   "metadata": {},
   "outputs": [
    {
     "data": {
      "text/plain": [
       "0.002605356956110859"
      ]
     },
     "execution_count": 1064,
     "metadata": {},
     "output_type": "execute_result"
    }
   ],
   "source": [
    "knr = KNR(n_neighbors=5,p=2).fit(X_norm, cluster_main_score)\n",
    "knr_pred = knr.predict(X_norm)\n",
    "mean_squared_error(cluster_main_score, knr_pred)"
   ]
  },
  {
   "cell_type": "code",
   "execution_count": 1070,
   "metadata": {},
   "outputs": [
    {
     "name": "stdout",
     "output_type": "stream",
     "text": [
      "[4 4 4 4 4 4 4 4 4 4]\n"
     ]
    }
   ],
   "source": [
    "X_test_norm = preprocessing.MinMaxScaler().fit_transform(X_test)\n",
    "test_prediction =gmm.predict(X_test_norm)\n",
    "print (test_prediction)"
   ]
  },
  {
   "cell_type": "code",
   "execution_count": 1071,
   "metadata": {},
   "outputs": [
    {
     "data": {
      "text/plain": [
       "array([0.58739197, 0.67864593, 0.48589249, 0.53447136, 0.57026225,\n",
       "       0.60727188, 0.60004349, 0.59756213, 0.58039376, 0.63375101])"
      ]
     },
     "execution_count": 1071,
     "metadata": {},
     "output_type": "execute_result"
    }
   ],
   "source": [
    "clf_rbf.predict(X_test_norm.reshape(-1,41))"
   ]
  },
  {
   "cell_type": "code",
   "execution_count": null,
   "metadata": {},
   "outputs": [],
   "source": []
  }
 ],
 "metadata": {
  "kernelspec": {
   "display_name": "Python 3",
   "language": "python",
   "name": "python3"
  },
  "language_info": {
   "codemirror_mode": {
    "name": "ipython",
    "version": 3
   },
   "file_extension": ".py",
   "mimetype": "text/x-python",
   "name": "python",
   "nbconvert_exporter": "python",
   "pygments_lexer": "ipython3",
   "version": "3.7.5"
  }
 },
 "nbformat": 4,
 "nbformat_minor": 2
}
